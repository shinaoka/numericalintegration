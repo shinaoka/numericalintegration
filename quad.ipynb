{
 "cells": [
  {
   "cell_type": "code",
   "execution_count": null,
   "metadata": {},
   "outputs": [],
   "source": [
    "using QuadGK\n",
    "using LinearAlgebra"
   ]
  },
  {
   "cell_type": "code",
   "execution_count": null,
   "metadata": {},
   "outputs": [],
   "source": [
    "# Taken from official tutorial\n",
    "# https://juliamath.github.io/QuadGK.jl/stable/\n",
    "\n",
    "integral, error = quadgk(x -> cos(200x), 0, 1)\n",
    "println(\"Estimated error: \", error)\n",
    "println(\"Approximated integral: \", integral)\n",
    "println(\"Error: \", integral - (−0.004366486486069972908665092105754))"
   ]
  }
 ],
 "metadata": {
  "kernelspec": {
   "display_name": "Julia 1.9.1",
   "language": "julia",
   "name": "julia-1.9"
  },
  "language_info": {
   "file_extension": ".jl",
   "mimetype": "application/julia",
   "name": "julia",
   "version": "1.9.1"
  },
  "orig_nbformat": 4
 },
 "nbformat": 4,
 "nbformat_minor": 2
}

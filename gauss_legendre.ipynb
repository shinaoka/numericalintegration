{
 "cells": [
  {
   "cell_type": "code",
   "execution_count": null,
   "metadata": {},
   "outputs": [],
   "source": [
    "using FastGaussQuadrature\n",
    "using LinearAlgebra\n",
    "\n",
    "N = 10 # 10点ガウス求積を使用\n",
    "a = 0.0 # 積分の下限\n",
    "b = 1.0 # 積分の上限\n",
    "\n",
    "# 積分点と重みを計算\n",
    "x, w = gausslegendre(N)\n",
    "\n",
    "# 積分区間の調整\n",
    "function adjust_xw(x, w, a, b)\n",
    "    @assert b > a\n",
    "    x_adjusted = (b - a) * 0.5 * (x .+ 1) .+ a\n",
    "    w_adjusted = (0.5 * (b - a)) .* w\n",
    "    return x_adjusted, w_adjusted\n",
    "end"
   ]
  },
  {
   "cell_type": "code",
   "execution_count": null,
   "metadata": {},
   "outputs": [],
   "source": [
    "# 全てのデータが引数で渡されているか、チェックしておく\n",
    "@code_warntype adjust_xw(x, w, a, b)"
   ]
  },
  {
   "cell_type": "code",
   "execution_count": null,
   "metadata": {},
   "outputs": [],
   "source": [
    "# 簡単なテストを実行\n",
    "\n",
    "let # x_, w_が名前空間を汚さないようにスコープを作る\n",
    "   # Test case: [-1, 1]\n",
    "   x_, w_ = adjust_xw(x, w, -1.0, 1.0) \n",
    "   @assert x_ ≈ x\n",
    "   @assert w_ ≈ w\n",
    "   @assert sum(w_) ≈ 2.0\n",
    "\n",
    "   # Test case: [0, 1]\n",
    "   x_, w_ = adjust_xw(x, w, 0.0, 1.0) \n",
    "   @assert x_ ≈ 0.5 .* x .+ 0.5\n",
    "   @assert sum(w_) ≈ 1.0\n",
    "end"
   ]
  },
  {
   "cell_type": "code",
   "execution_count": null,
   "metadata": {},
   "outputs": [],
   "source": [
    "# 被積分関数の定義\n",
    "f(x) = x^2\n",
    "\n",
    "# 数値積分の計算 (.はbroadcast, dotはベクトル同士の内積)\n",
    "x_adjusted, w_adjusted = adjust_xw(x, w, a, b)\n",
    "integral = dot(f.(x_adjusted), w_adjusted)\n",
    "\n",
    "println(\"Approximated integral: \", integral)"
   ]
  }
 ],
 "metadata": {
  "kernelspec": {
   "display_name": "Julia 1.9.1",
   "language": "julia",
   "name": "julia-1.9"
  },
  "language_info": {
   "file_extension": ".jl",
   "mimetype": "application/julia",
   "name": "julia",
   "version": "1.9.1"
  },
  "orig_nbformat": 4
 },
 "nbformat": 4,
 "nbformat_minor": 2
}

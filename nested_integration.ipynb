{
 "cells": [
  {
   "cell_type": "code",
   "execution_count": null,
   "metadata": {},
   "outputs": [],
   "source": [
    "#import Pkg; Pkg.add(\"Plots\")\n",
    "using QuadGK\n",
    "using Plots\n"
   ]
  },
  {
   "attachments": {},
   "cell_type": "markdown",
   "metadata": {},
   "source": [
    "2次元の積分を入れ子の1次元積分で実行してみよう。\n",
    "\n",
    "$$\n",
    "\\int dx dy~f(x, y) = \\int dy~g(y),\n",
    "$$\n",
    "\n",
    "where\n",
    "\n",
    "$$\n",
    "g(y) \\equiv \\int dx~f(x, y).\n",
    "$$\n",
    "\n",
    "各軸の積分を1次元積分を使って、積分していくことで高精度な積分が可能になります。\n",
    "もし、グリーン関数の波数積分に興味を持っている人は、[この論文](https://arxiv.org/abs/2211.12959)を読んでみると面白いと思います。"
   ]
  },
  {
   "cell_type": "code",
   "execution_count": null,
   "metadata": {},
   "outputs": [],
   "source": [
    "function quad2d(f, xrange, yrange)\n",
    "    # ...はタプルを複数の引数に展開する\n",
    "    g(y) = quadgk(x -> f(x, y), xrange...)[1]\n",
    "    return quadgk(g, yrange...) # 積分値とエラーを返す\n",
    "end"
   ]
  },
  {
   "attachments": {},
   "cell_type": "markdown",
   "metadata": {},
   "source": [
    "## 2次元のガウス積分"
   ]
  },
  {
   "cell_type": "code",
   "execution_count": null,
   "metadata": {},
   "outputs": [],
   "source": [
    "f(x, y) = exp(-(x^2 + y^2))\n",
    "\n",
    "# エラーの推定値は一番外の積分に対するもの\n",
    "result, error = quad2d(f, (-Inf, Inf), (-Inf, Inf))\n",
    "\n",
    "println(\"Result: \", result)\n",
    "println(\"Estimated error: \", error)\n",
    "println(\"Actual error: \", result - π)"
   ]
  },
  {
   "attachments": {},
   "cell_type": "markdown",
   "metadata": {},
   "source": [
    "## 2次元のグリーン関数の波数積分\n",
    "\n",
    "2次元の最近接tight bindingモデルの松原グリーン関数を考えてみよう。\n",
    "\n",
    "$$\n",
    "G(i\\omega_0, k_x, k_y) = \\frac{1}{i\\omega_0 - \\epsilon(k_x, k_y) + \\epsilon_\\mathrm{F} },\n",
    "$$\n",
    "\n",
    "where\n",
    "\n",
    "$$\n",
    "\\epsilon(k) = 2 \\cos(k_x) + 2 \\cos(k_y),\n",
    "$$\n",
    "\n",
    "$$\n",
    "\\omega_0 = \\pi T\n",
    "$$\n",
    "\n",
    "ここで, $T$は温度, $\\epsilon_\\mathrm{F}$はフェルミエネルギー。"
   ]
  },
  {
   "cell_type": "code",
   "execution_count": null,
   "metadata": {},
   "outputs": [],
   "source": [
    "T = 0.01\n",
    "ϵF = 1.0\n",
    "ϵ(kx, ky) = 2(cos(kx) + cos(ky))\n",
    "gk(kx, ky) = 1/(im * π * T - ϵ(kx, ky) + ϵF)"
   ]
  },
  {
   "cell_type": "code",
   "execution_count": null,
   "metadata": {},
   "outputs": [],
   "source": [
    "nk = 1000\n",
    "\n",
    "ks = collect(LinRange(-π, π, nk+1))[1:end-1]\n",
    "\n",
    "gkdata = gk.(reshape(ks, nk, :), reshape(ks, :, nk))\n",
    ";"
   ]
  },
  {
   "cell_type": "code",
   "execution_count": null,
   "metadata": {},
   "outputs": [],
   "source": [
    "heatmap(abs.(gkdata))"
   ]
  },
  {
   "cell_type": "code",
   "execution_count": null,
   "metadata": {},
   "outputs": [],
   "source": [
    "result_gk, error_gk = quad2d(gk, (-π, π), (-π, π))\n",
    "\n",
    "println(\"Result: \", result_gk)\n",
    "println(\"Estimated error: \", error_gk)"
   ]
  },
  {
   "cell_type": "code",
   "execution_count": null,
   "metadata": {},
   "outputs": [],
   "source": [
    "result_gk_grid = sum(gkdata) * (2π/nk)^2"
   ]
  },
  {
   "cell_type": "markdown",
   "metadata": {},
   "source": [
    "## 課題\n",
    "\n",
    "$\\beta$を増やした時、数値積分に必要な関数評価の回数$N$がどのように増えるか調べてみましょう。\n",
    "[理論的には、$(\\log \\beta)^2$のはずですが...]"
   ]
  },
  {
   "cell_type": "code",
   "execution_count": null,
   "metadata": {},
   "outputs": [],
   "source": [
    "# 関数評価の数を数える方法 (1変数関数の場合)\n",
    "module My\n",
    "\n",
    "mutable struct WrapFunc\n",
    "    f\n",
    "    count::Int\n",
    "end\n",
    "\n",
    "function (w::WrapFunc)(x)\n",
    "    w.count += 1\n",
    "    return w.f(x)\n",
    "end\n",
    "\n",
    "end\n",
    "\n",
    "import .My"
   ]
  },
  {
   "cell_type": "code",
   "execution_count": null,
   "metadata": {},
   "outputs": [],
   "source": [
    "f(x) = x^2\n",
    "wf = My.WrapFunc(f, 0)\n",
    "\n",
    "for _ in 1:4\n",
    "    wf(1.0)\n",
    "    @show wf.count\n",
    "end"
   ]
  },
  {
   "attachments": {},
   "cell_type": "markdown",
   "metadata": {},
   "source": [
    "## 発展課題\n",
    "\n",
    "2次元の波数積分を他の手法で行ってみましょう。例えば、`Cubature.jl`はnestした1次元積分ではなく、領域を適応的に分割して積分します。\n",
    "どちらの手法が性能が良いか測ってみましょう (実行時間、関数の評価回数)。"
   ]
  }
 ],
 "metadata": {
  "kernelspec": {
   "display_name": "Julia 1.9.0",
   "language": "julia",
   "name": "julia-1.9"
  },
  "language_info": {
   "file_extension": ".jl",
   "mimetype": "application/julia",
   "name": "julia",
   "version": "1.9.0"
  },
  "orig_nbformat": 4
 },
 "nbformat": 4,
 "nbformat_minor": 2
}
